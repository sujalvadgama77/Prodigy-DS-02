import pandas as pd
import numpy as np
import matplotlib.pyplot as plt
import seaborn as sns

# Load the dataset
file_path = r'C:\Users\mrvad\Desktop\task01\train.csv'  # Use raw string to handle backslashes
data = pd.read_csv(file_path)

# Display the first few rows of the dataset
print(data.head())

# Display the summary statistics of the dataset
print(data.describe())

# Display information about the dataset
print(data.info())

# Handle missing values
# Check for missing values
print(data.isnull().sum())

# Fill missing values in 'Age' with the median age
data['Age'].fillna(data['Age'].median(), inplace=True)

# Fill missing values in 'Embarked' with the most frequent value
data['Embarked'].fillna(data['Embarked'].mode()[0], inplace=True)

# Drop the 'Cabin' column as it has too many missing values
data.drop(columns=['Cabin'], inplace=True)

# Verify that there are no more missing values
print(data.isnull().sum())

# Exploratory Data Analysis (EDA)

# Plot the distribution of numerical features
data.hist(bins=20, figsize=(14, 10))
plt.show()

# Plot the distribution of categorical features
fig, axes = plt.subplots(2, 2, figsize=(14, 10))
sns.countplot(x='Survived', data=data, ax=axes[0, 0])
sns.countplot(x='Pclass', data=data, ax=axes[0, 1])
sns.countplot(x='Sex', data=data, ax=axes[1, 0])
sns.countplot(x='Embarked', data=data, ax=axes[1, 1])
plt.show()

# Explore relationships between variables
# Survival rate by sex
sns.barplot(x='Sex', y='Survived', data=data)
plt.show()

# Survival rate by class
sns.barplot(x='Pclass', y='Survived', data=data)
plt.show()

# Age distribution by survival status
sns.histplot(data=data, x='Age', hue='Survived', multiple='stack', bins=20)
plt.show()

# Pairplot to see the relationships between numerical variables
sns.pairplot(data[['Survived', 'Pclass', 'Age', 'SibSp', 'Parch', 'Fare']], hue='Survived', diag_kind='kde')
plt.show()
